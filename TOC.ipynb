{
	"nbformat": 4,
	"nbformat_minor": 0,
	"metadata": {
		"colab": {
			"name": "TOC.ipynb",
			"version": "0.3.2",
			"provenance": [],
			"collapsed_sections": []
		},
		"kernelspec": {
			"name": "python3",
			"display_name": "Python 3"
		}
	},
	"cells": [{
		"metadata": {
			"id": "HjTP-zEaVuKs",
			"colab_type": "text"
		},
		"cell_type": "markdown",
		"source": ["# Table of Contents\n", "# Preface\n", "1. Python Introduction\n", "\n", ">*  [Python Introduction](https://github.com/RohitKumarMishra/Codes/blob/master/data_science_test.ipynb)\n", "\n", ">* [Use Of Primitive Data Types ](https://github.com/RohitKumarMishra/Codes/blob/master/Use Of Primitive Data Types.ipynb)\n", "\n", ">* [Type Conversion using Global Functions ](https://github.com/RohitKumarMishra/Codes/blob/master/Type Conversion using Global Functions.ipynb)\n", "\n", ">* [How to store data in Python variables ](https://github.com/RohitKumarMishra/Codes/blob/master/How to store data in Python variables.ipynb)\n", "\n", ">* [Best Practice for Naming Convention](https://github.com/RohitKumarMishra/Codes/blob/master/Best Practice for Naming Convention.ipynb)\n", "\n", ">* [Arithmetic Expressions ](https://github.com/RohitKumarMishra/Codes/blob/master/Arithmetic Expressions.ipynb)\n", "\n", "\n", ">* [Writing and executing programs in files ](https://github.com/RohitKumarMishra/Codes/blob/master/Writing and executing programs in files.ipynb)\n", "\n", "\n", "2. Python Debugging\n", "\n", "\n", ">* Python Debugging\n", "\n", "3. Python Basics\n", "\n", ">* Python Basics\n", "\n", "4. Python Exception Handling\n", "\n", ">* Python Exception Handling\n", "\n", "5. Python Intermediate\n", "\n", ">* Python Intermediate\n", "\n", "6. Shopping List\n", "\n", ">* Shopping List\n", "\n", "7. Logging_Debugging\n", "\n", ">* Logging_Debugging\n", "\n", "8. Hangman Game\n", "\n", ">* Hangman Game\n", "\n", "9. Dungeon Game\n", "\n", ">* Dungeon Game\n", "\n", "10. Python Advanced\n", "\n", ">* Python Advanced\n", "\n", "11. File Handling\n", "\n", ">* File Handling\n", "\n", "12. Data Exchange Mechanism\n", "\n", ">* Data Exchange Mechanism\n", "\n", "13. Talking to Internet\n", "\n", ">* Talking to Internet\n", "\n", "14. Web Scrapping\n", "\n", ">* Web Scrapping\n", "\n", "15. Unit Testing\n", "\n", ">* Unit Testing\n", "\n", "16. Object Oriented\n", "\n", ">* Object Oriented\n", "\n", "17. Regular Expression\n", "\n", ">* Regular Expression\n", "\n", "18. Database handling\n", "\n", ">* Database handling\n", "\n", "19. Flask\n", "\n", ">* Flask\n", "\n", "20. Django\n", "\n", ">* Django\n", "\n", "21. TKinter\n", "\n", ">* TKinter"]
	}]

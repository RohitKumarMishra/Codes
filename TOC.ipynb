{
	"nbformat": 4,
	"nbformat_minor": 0,
	"metadata": {
		"colab": {
			"name": "TOC.ipynb",
			"version": "0.3.2",
			"provenance": [],
			"collapsed_sections": []
		},
		"kernelspec": {
			"name": "python3",
			"display_name": "Python 3"
		}
	},
	"cells": [{
		"metadata": {
			"id": "HjTP-zEaVuKs",
			"colab_type": "text"
		},
		"cell_type": "markdown",
		"source": ["# Table of Contents\n", "# Preface\n", "1. Python Introduction\n", "\n", "> *  [Python Introduction](https://github.com/RohitKumarMishra/Codes/blob/master/data_science_test.ipynb)\n", "\n", ">* [Use Of Primitive Data Types ](https://github.com/RohitKumarMishra/Codes/blob/master/Use Of Primitive Data Types.ipynb)\n", "\n", ">* [Type Conversion using Global Functions ](https://github.com/RohitKumarMishra/Codes/blob/master/Type Conversion using Global Functions.ipynb)\n", "\n", ">* [How to store data in Python variables ](https://github.com/RohitKumarMishra/Codes/blob/master/How to store data in Python variables.ipynb)\n", "\n", ">* [Best Practice for Naming Convention](https://github.com/RohitKumarMishra/Codes/blob/master/Best Practice for Naming Convention.ipynb)\n", "\n", ">* [Arithmetic Expressions ](https://github.com/RohitKumarMishra/Codes/blob/master/Arithmetic Expressions.ipynb)\n", "\n", ">* [Writing and executing programs in files ](https://github.com/RohitKumarMishra/Codes/blob/master/Writing and executing programs in files.ipynb)\n"]
	}]

}
